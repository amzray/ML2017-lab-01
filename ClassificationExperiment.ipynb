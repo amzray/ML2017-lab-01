{
 "cells": [
  {
   "cell_type": "code",
   "execution_count": null,
   "metadata": {
    "collapsed": true
   },
   "outputs": [],
   "source": [
    "
from sklearn.externals.joblib import Memory
from sklearn.datasets import load_svmlight_file

def get_data():
    data = load_svmlight_file("australian_scale.txt")
    return data[0], data[1]

X, y = get_data()

import numpy as np
from sklearn.model_selection import train_test_split
X = X.dot(np.eye(X.shape[1]))
o = np.ones((X.shape[0],1))
X = np.hstack((X,o)) #把所有x的属性加上一个1，用于和w14（b）相乘
y = y.reshape((y.shape[0],1))
X_train, X_test, y_train, y_test = train_test_split(X, y, test_size=0.33, random_state=42) 
#使用train_test_split函数将数据集切分为训练集和验证集

w = np.zeros((X.shape[1],1)) #将线性模型参数w初始化为全零

n = 1000 #设置迭代次数

Ltrain = np.zeros((n)) #初始化用于保存Ltrain的值随迭代次数变化的数组

Ltest = np.zeros((n)) #初始化用于保存Ltest的值随迭代次数变化的数组

def Lfun(w,X,y):#定义Loss函数
    m = y.shape[0]
    o = np.ones((m,1))
    l = o-(X.dot(w))*y
    for i in range (m):
        if l[i] < 0:
            l[i] = 0
    return l.sum()+0.5*np.sum(w*w)

def DER(w,X,y):#定义计算梯度的函数
    m = y.shape[0]
    j = (X.dot(w))*y
    o = np.zeros((m,1))
    for i in range (m):
        if j[i] < 1:
            o[i] = y[i]
    return -((X.T).dot(o))

for i in range (n):#迭代若干次，更新模型参数w
   
    G = (DER(w,X_train,y_train))
    w = w - 0.0001*G
    Ltrain[i] = Lfun(w,X_train,y_train)
    Ltest[i] = Lfun(w,X_test,y_test)
    
print(Ltrain)
print(Ltest)
print(w)

import matplotlib.pyplot as plt#绘制Ltrain和Ltest随迭代次数的变化图
x = np.arange(0,n,1)
plt.plot(x, Ltrain,  'r',label = 'training')
plt.plot(x, Ltest,  'b',label = 'testing')
plt.legend(loc='upper right')
plt.xlabel('Times of iteration')
plt.ylabel('Loss')
plt.show()"
   ]
  }
 ],
 "metadata": {
  "kernelspec": {
   "display_name": "Python 3",
   "language": "python",
   "name": "python3"
  },
  "language_info": {
   "codemirror_mode": {
    "name": "ipython",
    "version": 3
   },
   "file_extension": ".py",
   "mimetype": "text/x-python",
   "name": "python",
   "nbconvert_exporter": "python",
   "pygments_lexer": "ipython3",
   "version": "3.6.1"
  }
 },
 "nbformat": 4,
 "nbformat_minor": 2
}
